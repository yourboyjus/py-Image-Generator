{
 "cells": [
  {
   "cell_type": "code",
   "execution_count": 1,
   "id": "4671a1d3",
   "metadata": {},
   "outputs": [],
   "source": [
    "from PIL import Image \n",
    "from IPython.display import display \n",
    "import random\n",
    "import json"
   ]
  },
  {
   "cell_type": "code",
   "execution_count": 2,
   "id": "894a0051",
   "metadata": {},
   "outputs": [],
   "source": [
    "# Each image is made up a series of traits\n",
    "# The weightings for each trait drive the rarity and add up to 100%\n",
    "\n",
    "background = [\"blue\", \"orange\", \"purple\", \"red\", \"yellow\"] \n",
    "background_weights = [30, 40, 15, 5, 10]\n",
    "\n",
    "hair = [\"blue\", \"orange\", \"purple\", \"red\", \"yellow\"] \n",
    "hair_weights = [30, 40, 15, 5, 10]\n",
    "\n",
    "cover = [\"casual\", \"cool\", \"fancy\", \"love\", \"rock\"] \n",
    "cover_weights = [30, 40, 15, 5, 10]\n",
    "\n",
    "# Dictionary variable for each trait. \n",
    "# Eech trait corresponds to its file name\n",
    "\n",
    "background_files = {\n",
    "    \"blue\": \"blue\",\n",
    "    \"orange\": \"orange\",\n",
    "    \"purple\": \"purple\",\n",
    "    \"red\": \"red\",\n",
    "    \"yellow\": \"yellow\",\n",
    "}\n",
    "\n",
    "hair_files = {\n",
    "    \"blue\": \"blue-hair\",\n",
    "    \"orange\": \"orange-hair\",\n",
    "    \"purple\": \"purple-hair\",\n",
    "    \"red\": \"red-hair\",\n",
    "    \"yellow\": \"yellow-hair\",   \n",
    "}\n",
    "\n",
    "cover_files = {\n",
    "    \"casual\": \"casual-cover\",\n",
    "    \"cool\": \"cool-cover\",\n",
    "    \"fancy\": \"fancy-cover\",\n",
    "    \"love\": \"love-cover\",\n",
    "    \"rock\": \"rock-cover\"            \n",
    "}"
   ]
  },
  {
   "cell_type": "code",
   "execution_count": 3,
   "id": "73440173",
   "metadata": {},
   "outputs": [],
   "source": [
    "## Generate Traits\n",
    "\n",
    "TOTAL_IMAGES = 100 # Number of random unique images we want to generate\n",
    "\n",
    "all_images = [] \n",
    "\n",
    "# A recursive function to generate unique image combinations\n",
    "def create_new_image():\n",
    "    \n",
    "    new_image = {} #\n",
    "\n",
    "    # For each trait category, select a random trait based on the weightings \n",
    "    new_image [\"background\"] = random.choices(background, background_weights)[0]\n",
    "    new_image [\"hair\"] = random.choices(hair, hair_weights)[0]\n",
    "    new_image [\"cover\"] = random.choices(cover, cover_weights)[0]\n",
    "    \n",
    "    if new_image in all_images:\n",
    "        return create_new_image()\n",
    "    else:\n",
    "        return new_image\n",
    "    \n",
    "    \n",
    "# Generate the unique combinations based on trait weightings\n",
    "for i in range(TOTAL_IMAGES): \n",
    "    \n",
    "    new_trait_image = create_new_image()\n",
    "    \n",
    "    all_images.append(new_trait_image)"
   ]
  },
  {
   "cell_type": "code",
   "execution_count": 4,
   "id": "f9684c17",
   "metadata": {},
   "outputs": [
    {
     "name": "stdout",
     "output_type": "stream",
     "text": [
      "Are all images unique? True\n"
     ]
    }
   ],
   "source": [
    "# Returns true if all images are unique\n",
    "def all_images_unique(all_images):\n",
    "    seen = list()\n",
    "    return not any(i in seen or seen.append(i) for i in all_images)\n",
    "\n",
    "print(\"Are all images unique?\", all_images_unique(all_images))"
   ]
  },
  {
   "cell_type": "code",
   "execution_count": 5,
   "id": "d16aa079",
   "metadata": {},
   "outputs": [],
   "source": [
    "# Add token Id to each image\n",
    "i = 0\n",
    "for item in all_images:\n",
    "    item[\"tokenId\"] = i\n",
    "    i = i + 1"
   ]
  },
  {
   "cell_type": "code",
   "execution_count": 6,
   "id": "42ace87e",
   "metadata": {},
   "outputs": [
    {
     "name": "stdout",
     "output_type": "stream",
     "text": [
      "[{'background': 'purple', 'hair': 'blue', 'cover': 'cool', 'tokenId': 0}, {'background': 'blue', 'hair': 'blue', 'cover': 'cool', 'tokenId': 1}, {'background': 'blue', 'hair': 'orange', 'cover': 'cool', 'tokenId': 2}, {'background': 'orange', 'hair': 'blue', 'cover': 'fancy', 'tokenId': 3}, {'background': 'purple', 'hair': 'purple', 'cover': 'cool', 'tokenId': 4}, {'background': 'orange', 'hair': 'blue', 'cover': 'casual', 'tokenId': 5}, {'background': 'orange', 'hair': 'orange', 'cover': 'casual', 'tokenId': 6}, {'background': 'purple', 'hair': 'yellow', 'cover': 'cool', 'tokenId': 7}, {'background': 'blue', 'hair': 'orange', 'cover': 'rock', 'tokenId': 8}, {'background': 'blue', 'hair': 'yellow', 'cover': 'cool', 'tokenId': 9}, {'background': 'blue', 'hair': 'red', 'cover': 'casual', 'tokenId': 10}, {'background': 'purple', 'hair': 'orange', 'cover': 'cool', 'tokenId': 11}, {'background': 'orange', 'hair': 'orange', 'cover': 'fancy', 'tokenId': 12}, {'background': 'blue', 'hair': 'orange', 'cover': 'casual', 'tokenId': 13}, {'background': 'blue', 'hair': 'purple', 'cover': 'cool', 'tokenId': 14}, {'background': 'orange', 'hair': 'blue', 'cover': 'cool', 'tokenId': 15}, {'background': 'purple', 'hair': 'blue', 'cover': 'fancy', 'tokenId': 16}, {'background': 'orange', 'hair': 'purple', 'cover': 'cool', 'tokenId': 17}, {'background': 'orange', 'hair': 'yellow', 'cover': 'fancy', 'tokenId': 18}, {'background': 'blue', 'hair': 'blue', 'cover': 'love', 'tokenId': 19}, {'background': 'red', 'hair': 'red', 'cover': 'rock', 'tokenId': 20}, {'background': 'orange', 'hair': 'yellow', 'cover': 'rock', 'tokenId': 21}, {'background': 'orange', 'hair': 'orange', 'cover': 'cool', 'tokenId': 22}, {'background': 'yellow', 'hair': 'purple', 'cover': 'cool', 'tokenId': 23}, {'background': 'blue', 'hair': 'purple', 'cover': 'fancy', 'tokenId': 24}, {'background': 'blue', 'hair': 'yellow', 'cover': 'rock', 'tokenId': 25}, {'background': 'purple', 'hair': 'red', 'cover': 'fancy', 'tokenId': 26}, {'background': 'blue', 'hair': 'yellow', 'cover': 'fancy', 'tokenId': 27}, {'background': 'orange', 'hair': 'yellow', 'cover': 'cool', 'tokenId': 28}, {'background': 'orange', 'hair': 'orange', 'cover': 'rock', 'tokenId': 29}, {'background': 'purple', 'hair': 'purple', 'cover': 'casual', 'tokenId': 30}, {'background': 'orange', 'hair': 'blue', 'cover': 'rock', 'tokenId': 31}, {'background': 'orange', 'hair': 'orange', 'cover': 'love', 'tokenId': 32}, {'background': 'blue', 'hair': 'red', 'cover': 'cool', 'tokenId': 33}, {'background': 'yellow', 'hair': 'orange', 'cover': 'love', 'tokenId': 34}, {'background': 'blue', 'hair': 'yellow', 'cover': 'casual', 'tokenId': 35}, {'background': 'red', 'hair': 'purple', 'cover': 'love', 'tokenId': 36}, {'background': 'red', 'hair': 'orange', 'cover': 'casual', 'tokenId': 37}, {'background': 'orange', 'hair': 'purple', 'cover': 'casual', 'tokenId': 38}, {'background': 'blue', 'hair': 'blue', 'cover': 'rock', 'tokenId': 39}, {'background': 'yellow', 'hair': 'orange', 'cover': 'cool', 'tokenId': 40}, {'background': 'orange', 'hair': 'red', 'cover': 'casual', 'tokenId': 41}, {'background': 'yellow', 'hair': 'orange', 'cover': 'casual', 'tokenId': 42}, {'background': 'red', 'hair': 'orange', 'cover': 'fancy', 'tokenId': 43}, {'background': 'blue', 'hair': 'purple', 'cover': 'casual', 'tokenId': 44}, {'background': 'purple', 'hair': 'orange', 'cover': 'casual', 'tokenId': 45}, {'background': 'purple', 'hair': 'red', 'cover': 'cool', 'tokenId': 46}, {'background': 'orange', 'hair': 'red', 'cover': 'cool', 'tokenId': 47}, {'background': 'orange', 'hair': 'purple', 'cover': 'love', 'tokenId': 48}, {'background': 'orange', 'hair': 'yellow', 'cover': 'casual', 'tokenId': 49}, {'background': 'orange', 'hair': 'purple', 'cover': 'fancy', 'tokenId': 50}, {'background': 'red', 'hair': 'purple', 'cover': 'fancy', 'tokenId': 51}, {'background': 'yellow', 'hair': 'blue', 'cover': 'cool', 'tokenId': 52}, {'background': 'orange', 'hair': 'blue', 'cover': 'love', 'tokenId': 53}, {'background': 'red', 'hair': 'orange', 'cover': 'cool', 'tokenId': 54}, {'background': 'yellow', 'hair': 'blue', 'cover': 'love', 'tokenId': 55}, {'background': 'purple', 'hair': 'purple', 'cover': 'rock', 'tokenId': 56}, {'background': 'red', 'hair': 'blue', 'cover': 'cool', 'tokenId': 57}, {'background': 'purple', 'hair': 'purple', 'cover': 'fancy', 'tokenId': 58}, {'background': 'purple', 'hair': 'yellow', 'cover': 'fancy', 'tokenId': 59}, {'background': 'purple', 'hair': 'orange', 'cover': 'rock', 'tokenId': 60}, {'background': 'yellow', 'hair': 'orange', 'cover': 'fancy', 'tokenId': 61}, {'background': 'yellow', 'hair': 'purple', 'cover': 'casual', 'tokenId': 62}, {'background': 'blue', 'hair': 'blue', 'cover': 'fancy', 'tokenId': 63}, {'background': 'yellow', 'hair': 'yellow', 'cover': 'casual', 'tokenId': 64}, {'background': 'orange', 'hair': 'purple', 'cover': 'rock', 'tokenId': 65}, {'background': 'blue', 'hair': 'orange', 'cover': 'fancy', 'tokenId': 66}, {'background': 'red', 'hair': 'purple', 'cover': 'rock', 'tokenId': 67}, {'background': 'red', 'hair': 'blue', 'cover': 'love', 'tokenId': 68}, {'background': 'red', 'hair': 'purple', 'cover': 'casual', 'tokenId': 69}, {'background': 'yellow', 'hair': 'purple', 'cover': 'fancy', 'tokenId': 70}, {'background': 'blue', 'hair': 'purple', 'cover': 'love', 'tokenId': 71}, {'background': 'blue', 'hair': 'yellow', 'cover': 'love', 'tokenId': 72}, {'background': 'purple', 'hair': 'orange', 'cover': 'love', 'tokenId': 73}, {'background': 'red', 'hair': 'purple', 'cover': 'cool', 'tokenId': 74}, {'background': 'purple', 'hair': 'red', 'cover': 'casual', 'tokenId': 75}, {'background': 'yellow', 'hair': 'blue', 'cover': 'rock', 'tokenId': 76}, {'background': 'orange', 'hair': 'red', 'cover': 'love', 'tokenId': 77}, {'background': 'yellow', 'hair': 'blue', 'cover': 'casual', 'tokenId': 78}, {'background': 'blue', 'hair': 'blue', 'cover': 'casual', 'tokenId': 79}, {'background': 'purple', 'hair': 'blue', 'cover': 'casual', 'tokenId': 80}, {'background': 'blue', 'hair': 'red', 'cover': 'love', 'tokenId': 81}, {'background': 'purple', 'hair': 'blue', 'cover': 'rock', 'tokenId': 82}, {'background': 'red', 'hair': 'yellow', 'cover': 'rock', 'tokenId': 83}, {'background': 'red', 'hair': 'blue', 'cover': 'casual', 'tokenId': 84}, {'background': 'yellow', 'hair': 'orange', 'cover': 'rock', 'tokenId': 85}, {'background': 'orange', 'hair': 'red', 'cover': 'fancy', 'tokenId': 86}, {'background': 'purple', 'hair': 'orange', 'cover': 'fancy', 'tokenId': 87}, {'background': 'yellow', 'hair': 'yellow', 'cover': 'fancy', 'tokenId': 88}, {'background': 'purple', 'hair': 'yellow', 'cover': 'casual', 'tokenId': 89}, {'background': 'yellow', 'hair': 'red', 'cover': 'casual', 'tokenId': 90}, {'background': 'blue', 'hair': 'red', 'cover': 'rock', 'tokenId': 91}, {'background': 'orange', 'hair': 'yellow', 'cover': 'love', 'tokenId': 92}, {'background': 'red', 'hair': 'orange', 'cover': 'rock', 'tokenId': 93}, {'background': 'purple', 'hair': 'yellow', 'cover': 'love', 'tokenId': 94}, {'background': 'yellow', 'hair': 'red', 'cover': 'cool', 'tokenId': 95}, {'background': 'yellow', 'hair': 'blue', 'cover': 'fancy', 'tokenId': 96}, {'background': 'blue', 'hair': 'red', 'cover': 'fancy', 'tokenId': 97}, {'background': 'red', 'hair': 'blue', 'cover': 'fancy', 'tokenId': 98}, {'background': 'red', 'hair': 'red', 'cover': 'casual', 'tokenId': 99}]\n"
     ]
    }
   ],
   "source": [
    "print(all_images)"
   ]
  },
  {
   "cell_type": "code",
   "execution_count": 7,
   "id": "0a2c1333",
   "metadata": {},
   "outputs": [
    {
     "name": "stdout",
     "output_type": "stream",
     "text": [
      "{'blue': 23, 'orange': 24, 'purple': 20, 'red': 16, 'yellow': 17}\n",
      "{'blue': 23, 'orange': 23, 'purple': 21, 'red': 16, 'yellow': 17}\n",
      "{'casual': 24, 'cool': 22, 'fancy': 22, 'love': 15, 'rock': 17}\n"
     ]
    }
   ],
   "source": [
    "# Get Trait Counts\n",
    "\n",
    "background_count = {}\n",
    "for item in background:\n",
    "    background_count[item] = 0\n",
    "    \n",
    "hair_count = {}\n",
    "for item in hair:\n",
    "    hair_count[item] = 0\n",
    "\n",
    "cover_count = {}\n",
    "for item in cover:\n",
    "    cover_count[item] = 0\n",
    "\n",
    "for image in all_images:\n",
    "    background_count[image[\"background\"]] += 1\n",
    "    hair_count[image[\"hair\"]] += 1\n",
    "    cover_count[image[\"cover\"]] += 1\n",
    "    \n",
    "print(background_count)\n",
    "print(hair_count)\n",
    "print(cover_count)"
   ]
  },
  {
   "cell_type": "code",
   "execution_count": 8,
   "id": "17050bca",
   "metadata": {},
   "outputs": [],
   "source": [
    "#### Generate Metadata for all Traits \n",
    "METADATA_FILE_NAME = 'updateMetadataOpenSea.js';\n",
    "with open(METADATA_FILE_NAME, 'w') as outfile:\n",
    "    json.dump(all_images, outfile, indent=4)"
   ]
  },
  {
   "cell_type": "code",
   "execution_count": 9,
   "id": "0ddbd3d0",
   "metadata": {},
   "outputs": [],
   "source": [
    "#### Generate Images    \n",
    "for item in all_images:\n",
    "\n",
    "    im1 = Image.open(f'./background/{background_files[item[\"background\"]]}.jpg').convert('RGBA')\n",
    "    im2 = Image.open(f'./hair/{hair_files[item[\"hair\"]]}.png').convert('RGBA')\n",
    "    im3 = Image.open(f'./cover/{cover_files[item[\"cover\"]]}.png').convert('RGBA')\n",
    "\n",
    "\n",
    "    #Create each composite\n",
    "    com1 = Image.alpha_composite(im1, im2)\n",
    "    com2 = Image.alpha_composite(com1, im3)\n",
    "\n",
    "    #Convert to RGB\n",
    "    rgb_im = com2.convert('RGB')\n",
    "    file_name = str(item[\"tokenId\"]) + \".png\"\n",
    "    rgb_im.save(\"./images/\" + file_name)"
   ]
  },
  {
   "cell_type": "code",
   "execution_count": 13,
   "id": "f7d55c79",
   "metadata": {},
   "outputs": [],
   "source": [
    "#### Generate Metadata for each Image    \n",
    "\n",
    "f = open('updateMetadataOpenSea.js',) \n",
    "data = json.load(f)\n",
    "\n",
    "\n",
    "IMAGES_BASE_URI = \"https://github.com/yourboyjus/itsme.git\"\n",
    "PROJECT_NAME = \"Girls\"\n",
    "\n",
    "def getAttribute(key, value):\n",
    "    return {\n",
    "        \"trait_type\": key,\n",
    "        \"value\": value\n",
    "    }\n",
    "for i in data:\n",
    "    token_id = i['tokenId']\n",
    "    token = {\n",
    "        \"image\": IMAGES_BASE_URI + str(token_id) + '.png',\n",
    "        \"tokenId\": token_id,\n",
    "        \"name\": PROJECT_NAME + ' ' + str(token_id),\n",
    "        \"attributes\": []\n",
    "    }\n",
    "    token[\"attributes\"].append(getAttribute(\"background\", i[\"background\"]))\n",
    "    token[\"attributes\"].append(getAttribute(\"hair\", i[\"hair\"]))\n",
    "    token[\"attributes\"].append(getAttribute(\"cover\", i[\"cover\"]))\n",
    "\n",
    "    with open('./metadata/' + str(token_id), 'w') as outfile:\n",
    "        json.dump(token, outfile, indent=4)\n",
    "f.close()"
   ]
  }
 ],
 "metadata": {
  "kernelspec": {
   "display_name": "Python 3 (ipykernel)",
   "language": "python",
   "name": "python3"
  },
  "language_info": {
   "codemirror_mode": {
    "name": "ipython",
    "version": 3
   },
   "file_extension": ".py",
   "mimetype": "text/x-python",
   "name": "python",
   "nbconvert_exporter": "python",
   "pygments_lexer": "ipython3",
   "version": "3.9.6"
  }
 },
 "nbformat": 4,
 "nbformat_minor": 5
}
